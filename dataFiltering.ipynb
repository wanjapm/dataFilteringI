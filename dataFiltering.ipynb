{
 "cells": [
  {
   "cell_type": "code",
   "execution_count": 322,
   "metadata": {},
   "outputs": [],
   "source": [
    "path = \"/mnt/c/Users/user/Downloads/amazon_reviews_us_Gift_Card_v1_00.tsv.gz\""
   ]
  },
  {
   "cell_type": "code",
   "execution_count": 323,
   "metadata": {},
   "outputs": [],
   "source": [
    "import gzip\n",
    "import csv\n",
    "f = gzip.open(path,'rt', encoding='utf8')"
   ]
  },
  {
   "cell_type": "code",
   "execution_count": 324,
   "metadata": {},
   "outputs": [],
   "source": [
    "reader = csv.reader(f,delimiter='\\t')"
   ]
  },
  {
   "cell_type": "code",
   "execution_count": 325,
   "metadata": {},
   "outputs": [],
   "source": [
    "header = next(reader)"
   ]
  },
  {
   "cell_type": "code",
   "execution_count": 326,
   "metadata": {},
   "outputs": [
    {
     "data": {
      "text/plain": [
       "148310"
      ]
     },
     "execution_count": 326,
     "metadata": {},
     "output_type": "execute_result"
    }
   ],
   "source": [
    "dataset = []\n",
    "for line in reader:\n",
    "    d = dict(zip(header,line))\n",
    "    # convert fields to numbers or boolean where possible    \n",
    "    for field in ['star_rating', 'helpful_votes', 'total_votes']:\n",
    "        d[field] = int(d[field])\n",
    "    for field in ['vine', 'verified_purchase']:\n",
    "        if d[field] == 'Y':\n",
    "            d[field] =  True\n",
    "        else:\n",
    "            d[field] =  False\n",
    "\n",
    "    dataset.append(d)\n",
    "\n",
    "len(dataset)"
   ]
  },
  {
   "cell_type": "code",
   "execution_count": 327,
   "metadata": {},
   "outputs": [
    {
     "name": "stdout",
     "output_type": "stream",
     "text": [
      "Sample dataset:\n",
      "{'marketplace': 'US', 'customer_id': '24371595', 'review_id': 'R27ZP1F1CD0C3Y', 'product_id': 'B004LLIL5A', 'product_parent': '346014806', 'product_title': 'Amazon eGift Card - Celebrate', 'product_category': 'Gift Card', 'star_rating': 5, 'helpful_votes': 0, 'total_votes': 0, 'vine': False, 'verified_purchase': True, 'review_headline': 'Five Stars', 'review_body': 'Great birthday gift for a young adult.', 'review_date': '2015-08-31'}\n"
     ]
    }
   ],
   "source": [
    "print(\"Sample dataset:\")\n",
    "print(dataset[0])"
   ]
  },
  {
   "cell_type": "code",
   "execution_count": 328,
   "metadata": {},
   "outputs": [
    {
     "data": {
      "text/plain": [
       "148309"
      ]
     },
     "execution_count": 328,
     "metadata": {},
     "output_type": "execute_result"
    }
   ],
   "source": [
    "# filter reviews according to year (remove old reviews before the year 2010)\n",
    "# some records do not have the key 'review_date', check for it otherwise key error\n",
    "dataset = [d for d in dataset if 'review_date' in d]\n",
    "len(dataset)"
   ]
  },
  {
   "cell_type": "code",
   "execution_count": 329,
   "metadata": {},
   "outputs": [],
   "source": [
    "for d in dataset:\n",
    "    d['yearInt'] = int(d['review_date'][:4])"
   ]
  },
  {
   "cell_type": "code",
   "execution_count": 330,
   "metadata": {},
   "outputs": [
    {
     "name": "stdout",
     "output_type": "stream",
     "text": [
      "Number of reviews made before the year 2010: 148095\n"
     ]
    }
   ],
   "source": [
    "dataset = [d for d in dataset if d['yearInt'] > 2009]\n",
    "print(f\"Number of reviews made before the year 2010: {len(dataset)}\")"
   ]
  },
  {
   "cell_type": "code",
   "execution_count": 331,
   "metadata": {},
   "outputs": [
    {
     "name": "stdout",
     "output_type": "stream",
     "text": [
      "Number of 'helpful' reviews: 147801\n"
     ]
    }
   ],
   "source": [
    "# keep reviews that haven't recieved many votes yet or where more than half of review votes considered review helpful\n",
    "# helpful reviews\n",
    "dataset = [d  for d in dataset if d['total_votes'] < 3 or d['helpful_votes'] / d['total_votes'] >=0.5]\n",
    "print(f\"Number of 'helpful' reviews: {len(dataset)}\")"
   ]
  },
  {
   "cell_type": "code",
   "execution_count": 332,
   "metadata": {},
   "outputs": [],
   "source": [
    "from collections import defaultdict\n",
    "nReviewsPerUser = defaultdict(int)\n",
    "# how many reviews per user\n",
    "for d in dataset:\n",
    "    nReviewsPerUser[d['customer_id']] +=1"
   ]
  },
  {
   "cell_type": "code",
   "execution_count": 333,
   "metadata": {},
   "outputs": [
    {
     "name": "stdout",
     "output_type": "stream",
     "text": [
      "Number of reviews made by users who have made 2 or more reviews: 11172\n"
     ]
    }
   ],
   "source": [
    "# filter users who have written 2 or more reviews\n",
    "dataset = [d for d in dataset if nReviewsPerUser[d['customer_id']]>1]\n",
    "print(f\"Number of reviews made by users who have made 2 or more reviews: {len(dataset)}\")"
   ]
  },
  {
   "cell_type": "code",
   "execution_count": 334,
   "metadata": {},
   "outputs": [
    {
     "name": "stdout",
     "output_type": "stream",
     "text": [
      "Number of reviews which have more than 10 words (informative): 7033\n"
     ]
    }
   ],
   "source": [
    "# filter out reviews which have less than 10 words as uninformative\n",
    "dataset = [d for d in dataset if len(d['review_body'].split()) > 9]\n",
    "print(f\"Number of reviews which have more than 10 words (informative): {len(dataset)}\")"
   ]
  },
  {
   "cell_type": "code",
   "execution_count": 335,
   "metadata": {},
   "outputs": [],
   "source": [
    "# filter products that have few reviews\n",
    "nReviewsPerProduct = defaultdict(int)\n",
    "for d in dataset:\n",
    "    nReviewsPerProduct[d['product_id']] +=1"
   ]
  },
  {
   "cell_type": "code",
   "execution_count": 336,
   "metadata": {},
   "outputs": [
    {
     "name": "stdout",
     "output_type": "stream",
     "text": [
      "Number of reviews for products with more than 10 reviews: 5003\n"
     ]
    }
   ],
   "source": [
    "dataset = [d for d in dataset if nReviewsPerProduct[d['product_id']] > 10 ]\n",
    "print(f\"Number of reviews for products with more than 10 reviews: {len(dataset)}\")"
   ]
  },
  {
   "cell_type": "code",
   "execution_count": 337,
   "metadata": {},
   "outputs": [],
   "source": [
    "# filter out users who have only given 5 star ratings\n",
    "userReviews = defaultdict(list)\n",
    "for d in dataset:\n",
    "    userReviews[d['customer_id']].append(d['star_rating'])\n",
    "    "
   ]
  },
  {
   "cell_type": "code",
   "execution_count": 338,
   "metadata": {},
   "outputs": [
    {
     "name": "stdout",
     "output_type": "stream",
     "text": [
      "Number of reviews without reviews by users who have only given 5 star ratings: 651\n"
     ]
    }
   ],
   "source": [
    "dataset =  [d for d in dataset if userReviews[d['customer_id']].count(5) != len(userReviews[d['customer_id']])]\n",
    "print(f\"Number of reviews without reviews by users who have only given 5 star ratings: {len(dataset)}\")"
   ]
  },
  {
   "cell_type": "code",
   "execution_count": 339,
   "metadata": {},
   "outputs": [],
   "source": [
    "# filter out users who have not written a review in the past year\n",
    "from datetime import datetime\n",
    "from datetime import timedelta\n",
    "\n",
    "today = datetime.today()\n",
    "oneyearago = today - timedelta(days=365)"
   ]
  },
  {
   "cell_type": "code",
   "execution_count": 340,
   "metadata": {},
   "outputs": [],
   "source": [
    "userReviewYears = defaultdict(list)\n",
    "for d in dataset:\n",
    "    userReviewYears[d['customer_id']].append(datetime.strptime(d['review_date'],'%Y-%m-%d'))"
   ]
  },
  {
   "cell_type": "code",
   "execution_count": 341,
   "metadata": {},
   "outputs": [
    {
     "name": "stdout",
     "output_type": "stream",
     "text": [
      "Number of reviews made in the past year 0\n"
     ]
    }
   ],
   "source": [
    "dataset = [d for d in dataset if max(userReviewYears[d['customer_id']]) >= oneyearago ]\n",
    "len(dataset)\n",
    "print(f\"Number of reviews made in the past year {len(dataset)}\")"
   ]
  },
  {
   "cell_type": "code",
   "execution_count": 342,
   "metadata": {},
   "outputs": [
    {
     "name": "stdout",
     "output_type": "stream",
     "text": [
      "Number of reviews made by members of the vine program: 0\n"
     ]
    }
   ],
   "source": [
    "# filter reviews that are not part of the vine program\n",
    "dataset = [d for d in dataset if d['vine']]\n",
    "print(f\"Number of reviews made by members of the vine program: {len(dataset)}\")"
   ]
  },
  {
   "cell_type": "code",
   "execution_count": null,
   "metadata": {},
   "outputs": [],
   "source": []
  }
 ],
 "metadata": {
  "kernelspec": {
   "display_name": "Python 3",
   "language": "python",
   "name": "python3"
  },
  "language_info": {
   "codemirror_mode": {
    "name": "ipython",
    "version": 3
   },
   "file_extension": ".py",
   "mimetype": "text/x-python",
   "name": "python",
   "nbconvert_exporter": "python",
   "pygments_lexer": "ipython3",
   "version": "3.7.6"
  }
 },
 "nbformat": 4,
 "nbformat_minor": 4
}
